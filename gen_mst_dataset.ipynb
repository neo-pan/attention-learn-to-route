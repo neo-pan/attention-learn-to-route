{
 "cells": [
  {
   "cell_type": "code",
   "execution_count": null,
   "metadata": {},
   "outputs": [],
   "source": [
    "import torch\n",
    "import pickle\n",
    "from problems.tsp.problem_tsp import gen_mst_graph\n",
    "from tqdm import tqdm\n",
    "from torch_geometric.data import Data"
   ]
  },
  {
   "cell_type": "code",
   "execution_count": null,
   "metadata": {},
   "outputs": [],
   "source": [
    "def rand_gen_mst(idx):\n",
    "    torch.random.seed()\n",
    "    g_list = [gen_mst_graph(graph_size) for _ in range(n_samples)]\n",
    "    torch.save(g_list, save_prefix+f\"_{idx}.pkl\")\n",
    "    print(f\"dataset-{idx} created\")"
   ]
  },
  {
   "cell_type": "code",
   "execution_count": null,
   "metadata": {},
   "outputs": [],
   "source": [
    "import torch.multiprocessing as mp\n",
    "from torch.multiprocessing import Pool\n",
    "torch.multiprocessing.set_sharing_strategy('file_system')\n"
   ]
  },
  {
   "cell_type": "code",
   "execution_count": null,
   "metadata": {},
   "outputs": [],
   "source": [
    "n_process = 3\n",
    "graph_size = 20\n",
    "n_samples = 128000 // 2\n",
    "n_repeats = 20\n",
    "save_prefix = f\"/home/pxh/attention-learn-to-route/data/tsp/tsp{graph_size}_train\""
   ]
  },
  {
   "cell_type": "code",
   "execution_count": null,
   "metadata": {},
   "outputs": [],
   "source": [
    "out = []\n",
    "\n",
    "with Pool(n_process) as p:\n",
    "    p.map(rand_gen_mst, range(n_repeats))\n"
   ]
  },
  {
   "cell_type": "code",
   "execution_count": null,
   "metadata": {},
   "outputs": [],
   "source": [
    "dataset = []"
   ]
  },
  {
   "cell_type": "code",
   "execution_count": null,
   "metadata": {},
   "outputs": [],
   "source": [
    "for idx in range(n_repeats):\n",
    "    g_list = torch.load(save_prefix+f\"_{idx}.pkl\")\n",
    "    dataset += g_list\n",
    "len(dataset)"
   ]
  },
  {
   "cell_type": "code",
   "execution_count": null,
   "metadata": {},
   "outputs": [],
   "source": []
  },
  {
   "cell_type": "code",
   "execution_count": null,
   "metadata": {},
   "outputs": [],
   "source": [
    "len(dataset)"
   ]
  },
  {
   "cell_type": "code",
   "execution_count": null,
   "metadata": {},
   "outputs": [],
   "source": [
    "with open(save_prefix+f\"_pre_generated.pkl\", 'wb') as f:\n",
    "    pickle.dump(dataset, f)"
   ]
  },
  {
   "cell_type": "code",
   "execution_count": null,
   "metadata": {},
   "outputs": [],
   "source": [
    "with open(save_prefix+f\"_pre_generated.pkl\", 'rb') as f:\n",
    "    dataset = pickle.load(f)"
   ]
  },
  {
   "cell_type": "markdown",
   "metadata": {},
   "source": [
    "## Generate Graph with networkx"
   ]
  },
  {
   "cell_type": "code",
   "execution_count": null,
   "metadata": {},
   "outputs": [],
   "source": [
    "import networkx as nx\n",
    "import numpy as np\n",
    "import multiprocessing as mp\n",
    "from scipy.spatial.distance import cdist\n",
    "from itertools import combinations"
   ]
  },
  {
   "cell_type": "code",
   "execution_count": null,
   "metadata": {},
   "outputs": [],
   "source": [
    "pos = np.random.uniform(low=0.0, high=1.0, size=(50,2))"
   ]
  },
  {
   "cell_type": "code",
   "execution_count": null,
   "metadata": {},
   "outputs": [],
   "source": [
    "dist = cdist(pos, pos, metric='euclidean')"
   ]
  },
  {
   "cell_type": "code",
   "execution_count": null,
   "metadata": {},
   "outputs": [],
   "source": [
    "graph = nx.complete_graph(50)"
   ]
  },
  {
   "cell_type": "code",
   "execution_count": null,
   "metadata": {},
   "outputs": [],
   "source": [
    "for n in graph.nodes:\n",
    "    graph.nodes[0][\"pos\"] = pos[n]"
   ]
  },
  {
   "cell_type": "code",
   "execution_count": null,
   "metadata": {},
   "outputs": [],
   "source": [
    "for u, v in graph.edges:\n",
    "    graph[u][v][\"weight\"] = dist[u,v]"
   ]
  },
  {
   "cell_type": "code",
   "execution_count": null,
   "metadata": {},
   "outputs": [],
   "source": [
    "mst = nx.algorithms.tree.mst.minimum_spanning_tree(graph, algorithm=\"prim\")"
   ]
  },
  {
   "cell_type": "code",
   "execution_count": null,
   "metadata": {},
   "outputs": [],
   "source": [
    "def gen_mst_graph(graph_size):\n",
    "    pos = np.random.uniform(low=0.0, high=1.0, size=(graph_size,2))\n",
    "    dist = cdist(pos, pos, metric='euclidean')\n",
    "    graph = nx.complete_graph(graph_size)\n",
    "    for n in graph.nodes:\n",
    "        graph.nodes[n][\"pos\"] = pos[n]\n",
    "    for u, v in graph.edges:\n",
    "        graph[u][v][\"weight\"] = dist[u,v]\n",
    "        \n",
    "    mst = nx.algorithms.tree.mst.minimum_spanning_tree(graph, algorithm=\"prim\")\n",
    "    \n",
    "    return mst\n",
    "\n",
    "def gen_complete_graph(graph_size):\n",
    "    pos = np.random.uniform(low=0.0, high=1.0, size=(graph_size,2))\n",
    "    dist = cdist(pos, pos, metric='euclidean')\n",
    "    graph = nx.complete_graph(graph_size)\n",
    "    for n in graph.nodes:\n",
    "        graph.nodes[n][\"pos\"] = pos[n]\n",
    "    for u, v in graph.edges:\n",
    "        graph[u][v][\"weight\"] = dist[u,v]\n",
    "        \n",
    "    return graph"
   ]
  },
  {
   "cell_type": "code",
   "execution_count": null,
   "metadata": {},
   "outputs": [],
   "source": [
    "%load_ext line_profiler"
   ]
  },
  {
   "cell_type": "code",
   "execution_count": null,
   "metadata": {},
   "outputs": [],
   "source": [
    "%timeit gen_mst_graph(50)"
   ]
  },
  {
   "cell_type": "code",
   "execution_count": null,
   "metadata": {},
   "outputs": [],
   "source": [
    "batch_g = nx.union_all([graph]*10, rename=[str(i) for i in range(10)])"
   ]
  },
  {
   "cell_type": "code",
   "execution_count": null,
   "metadata": {},
   "outputs": [],
   "source": [
    "batch_mst = nx.algorithms.tree.mst.minimum_spanning_tree(batch_g, algorithm=\"prim\")"
   ]
  },
  {
   "cell_type": "code",
   "execution_count": null,
   "metadata": {},
   "outputs": [],
   "source": [
    "for subg in nx.connected_components(batch_test):\n",
    "    print(from_networkx(batch_test.subgraph(subg)))"
   ]
  },
  {
   "cell_type": "code",
   "execution_count": null,
   "metadata": {},
   "outputs": [],
   "source": [
    "def test_batch_mst(graph_size, batch_size):\n",
    "    g_list = [gen_complete_graph(graph_size) for _ in range(batch_size)]\n",
    "    batch_g = nx.union_all(g_list, rename=[f\"{str(i)}_\" for i in range(batch_size)])\n",
    "    batch_mst = nx.algorithms.tree.mst.minimum_spanning_tree(batch_g, algorithm=\"prim\")\n",
    "    \n",
    "    return [batch_mst.subgraph(subg) for subg in nx.connected_components(batch_mst)]\n",
    "\n",
    "def test_sep_mst(graph_size, batch_size):\n",
    "    return [gen_mst_graph(graph_size) for _ in range(batch_size)]\n"
   ]
  },
  {
   "cell_type": "code",
   "execution_count": null,
   "metadata": {},
   "outputs": [],
   "source": [
    "%lprun -f test_sep_mst -f gen_mst_graph test_sep_mst(50, 128)"
   ]
  },
  {
   "cell_type": "code",
   "execution_count": null,
   "metadata": {},
   "outputs": [],
   "source": [
    "%lprun -f test_batch_mst test_batch_mst(50, 128)"
   ]
  },
  {
   "cell_type": "code",
   "execution_count": null,
   "metadata": {},
   "outputs": [],
   "source": [
    "cg = nx.caveman_graph(2,10)"
   ]
  },
  {
   "cell_type": "code",
   "execution_count": null,
   "metadata": {},
   "outputs": [],
   "source": [
    "pos = np.random.uniform(low=0.0, high=1.0, size=(128, 50, 2))"
   ]
  },
  {
   "cell_type": "code",
   "execution_count": null,
   "metadata": {},
   "outputs": [],
   "source": [
    "dist = np.stack([cdist(p, p, metric='euclidean') for p in pos])"
   ]
  },
  {
   "cell_type": "code",
   "execution_count": null,
   "metadata": {},
   "outputs": [],
   "source": [
    "def test_cal_dist(pos):\n",
    "    bs, gs, _ = pos.shape\n",
    "    out = []\n",
    "    dist = np.stack([cdist(p, p, metric='euclidean') for p in pos])\n",
    "    for b in range(bs):\n",
    "        for u, v in combinations(range(gs), 2):\n",
    "            d = dist[b, u, v]\n",
    "            out.append(d)\n",
    "    return np.array(out)"
   ]
  },
  {
   "cell_type": "code",
   "execution_count": null,
   "metadata": {},
   "outputs": [],
   "source": [
    "def test_sep_dist(pos):\n",
    "    bs, gs, _ = pos.shape\n",
    "    out = []\n",
    "    for b in range(bs):\n",
    "        for u, v in combinations(range(gs), 2):\n",
    "            d = np.linalg.norm(pos[b,u] - pos[b,v])\n",
    "            out.append(d)\n",
    "    return np.array(out)"
   ]
  },
  {
   "cell_type": "code",
   "execution_count": null,
   "metadata": {},
   "outputs": [],
   "source": [
    "%timeit test_sep_dist(pos)"
   ]
  },
  {
   "cell_type": "code",
   "execution_count": null,
   "metadata": {},
   "outputs": [],
   "source": [
    "%timeit test_cal_dist(pos)"
   ]
  },
  {
   "cell_type": "code",
   "execution_count": null,
   "metadata": {},
   "outputs": [],
   "source": []
  }
 ],
 "metadata": {
  "kernelspec": {
   "display_name": "Python 3",
   "language": "python",
   "name": "python3"
  },
  "language_info": {
   "codemirror_mode": {
    "name": "ipython",
    "version": 3
   },
   "file_extension": ".py",
   "mimetype": "text/x-python",
   "name": "python",
   "nbconvert_exporter": "python",
   "pygments_lexer": "ipython3",
   "version": "3.8.5"
  },
  "toc-autonumbering": false,
  "widgets": {
   "application/vnd.jupyter.widget-state+json": {
    "state": {},
    "version_major": 2,
    "version_minor": 0
   }
  }
 },
 "nbformat": 4,
 "nbformat_minor": 4
}
