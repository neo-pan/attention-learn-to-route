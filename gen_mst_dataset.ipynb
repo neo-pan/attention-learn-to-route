{
 "cells": [
  {
   "cell_type": "code",
   "execution_count": 3,
   "metadata": {},
   "outputs": [],
   "source": [
    "import pickle\n",
    "\n",
    "import torch\n",
    "from problems.tsp.problem_tsp import gen_fully_connected_graph, gen_mst_graph, gen_knn_mst_graph, gen_knn_graph\n",
    "from torch_geometric.data import Data\n",
    "from tqdm import tqdm"
   ]
  },
  {
   "cell_type": "code",
   "execution_count": null,
   "metadata": {},
   "outputs": [],
   "source": [
    "def rand_gen_mst(idx):\n",
    "    torch.random.seed()\n",
    "    g_list = [gen_mst_graph(graph_size) for _ in range(n_samples)]\n",
    "    torch.save(g_list, save_prefix+f\"_{idx}.pkl\")\n",
    "    print(f\"dataset-{idx} created\")"
   ]
  },
  {
   "cell_type": "code",
   "execution_count": null,
   "metadata": {},
   "outputs": [],
   "source": [
    "import torch.multiprocessing as mp\n",
    "from torch.multiprocessing import Pool\n",
    "torch.multiprocessing.set_sharing_strategy('file_system')\n"
   ]
  },
  {
   "cell_type": "code",
   "execution_count": 2,
   "metadata": {},
   "outputs": [],
   "source": [
    "n_process = 3\n",
    "graph_size = 50\n",
    "n_samples = 128000 // 2\n",
    "n_repeats = 20\n",
    "save_prefix = f\"/home/pxh/attention-learn-to-route/data/tsp/tsp{graph_size}_train\""
   ]
  },
  {
   "cell_type": "code",
   "execution_count": null,
   "metadata": {},
   "outputs": [],
   "source": [
    "out = []\n",
    "\n",
    "with Pool(n_process) as p:\n",
    "    p.map(rand_gen_mst, range(n_repeats))\n"
   ]
  },
  {
   "cell_type": "code",
   "execution_count": 3,
   "metadata": {},
   "outputs": [],
   "source": [
    "dataset = []"
   ]
  },
  {
   "cell_type": "code",
   "execution_count": null,
   "metadata": {},
   "outputs": [],
   "source": [
    "for idx in range(n_repeats):\n",
    "    g_list = torch.load(save_prefix+f\"_{idx}.pkl\")\n",
    "    dataset += g_list\n",
    "len(dataset)"
   ]
  },
  {
   "cell_type": "code",
   "execution_count": 7,
   "metadata": {},
   "outputs": [],
   "source": [
    "s_len = len(dataset) * 3 // 5\n",
    "s_len\n",
    "s_dataset = dataset[:s_len]"
   ]
  },
  {
   "cell_type": "code",
   "execution_count": 11,
   "metadata": {},
   "outputs": [],
   "source": [
    "with open(save_prefix+f\"_pre_generated_small.pkl\", 'wb') as f:\n",
    "    pickle.dump(s_dataset, f)"
   ]
  },
  {
   "cell_type": "code",
   "execution_count": null,
   "metadata": {},
   "outputs": [],
   "source": []
  },
  {
   "cell_type": "code",
   "execution_count": null,
   "metadata": {},
   "outputs": [],
   "source": [
    "with open(save_prefix+f\"_pre_generated.pkl\", 'wb') as f:\n",
    "    pickle.dump(dataset, f)"
   ]
  },
  {
   "cell_type": "code",
   "execution_count": 4,
   "metadata": {},
   "outputs": [],
   "source": [
    "with open(save_prefix+f\"_pre_generated.pkl\", 'rb') as f:\n",
    "    dataset = pickle.load(f)"
   ]
  },
  {
   "cell_type": "markdown",
   "metadata": {},
   "source": [
    "## Generate Graph with networkx"
   ]
  },
  {
   "cell_type": "code",
   "execution_count": 49,
   "metadata": {},
   "outputs": [],
   "source": [
    "import multiprocessing as mp\n",
    "from itertools import combinations\n",
    "\n",
    "import matplotlib.pyplot as plt\n",
    "import networkx as nx\n",
    "import numpy as np\n",
    "from scipy.spatial.distance import cdist\n",
    "from torch_geometric.utils import from_networkx, to_networkx\n",
    "from torch_geometric.transforms.distance import Distance\n",
    "from networkx.algorithms.tree import mst"
   ]
  },
  {
   "cell_type": "code",
   "execution_count": 22,
   "metadata": {},
   "outputs": [],
   "source": [
    "%load_ext line_profiler"
   ]
  },
  {
   "cell_type": "code",
   "execution_count": 185,
   "metadata": {},
   "outputs": [],
   "source": [
    "pos = np.random.uniform(low=0.0, high=1.0, size=(128,10,2))"
   ]
  },
  {
   "cell_type": "code",
   "execution_count": null,
   "metadata": {},
   "outputs": [],
   "source": [
    "dist = cdist(pos, pos, metric='euclidean')"
   ]
  },
  {
   "cell_type": "code",
   "execution_count": null,
   "metadata": {},
   "outputs": [],
   "source": [
    "graph = nx.complete_graph(50)"
   ]
  },
  {
   "cell_type": "code",
   "execution_count": null,
   "metadata": {},
   "outputs": [],
   "source": [
    "for n in graph.nodes:\n",
    "    graph.nodes[0][\"pos\"] = pos[n]"
   ]
  },
  {
   "cell_type": "code",
   "execution_count": null,
   "metadata": {},
   "outputs": [],
   "source": [
    "for u, v in graph.edges:\n",
    "    graph[u][v][\"weight\"] = dist[u,v]"
   ]
  },
  {
   "cell_type": "code",
   "execution_count": null,
   "metadata": {},
   "outputs": [],
   "source": [
    "mst = nx.algorithms.tree.mst.minimum_spanning_tree(graph, algorithm=\"prim\")"
   ]
  },
  {
   "cell_type": "code",
   "execution_count": 11,
   "metadata": {},
   "outputs": [],
   "source": [
    "def gen_mst_graph(pos):\n",
    "#     pos = np.random.uniform(low=0.0, high=1.0, size=(graph_size,2))\n",
    "    graph_size, _ = pos.shape\n",
    "    dist = cdist(pos, pos, metric='euclidean')\n",
    "    graph = nx.complete_graph(graph_size)\n",
    "    for n in graph.nodes:\n",
    "        graph.nodes[n][\"pos\"] = pos[n]\n",
    "    for u, v in graph.edges:\n",
    "        graph[u][v][\"weight\"] = dist[u,v]\n",
    "        \n",
    "    mst = nx.algorithms.tree.mst.minimum_spanning_tree(graph, algorithm=\"prim\")\n",
    "    \n",
    "    return mst\n",
    "\n",
    "def gen_complete_graph(pos):\n",
    "#     pos = np.random.uniform(low=0.0, high=1.0, size=(graph_size,2))\n",
    "    graph_size, _ = pos.shape\n",
    "    dist = cdist(pos, pos, metric='euclidean')\n",
    "    graph = nx.complete_graph(graph_size)\n",
    "    for n in graph.nodes:\n",
    "        graph.nodes[n][\"pos\"] = pos[n]\n",
    "    for u, v in graph.edges:\n",
    "        graph[u][v][\"weight\"] = dist[u,v]\n",
    "        \n",
    "    return graph"
   ]
  },
  {
   "cell_type": "code",
   "execution_count": null,
   "metadata": {},
   "outputs": [],
   "source": []
  },
  {
   "cell_type": "code",
   "execution_count": null,
   "metadata": {},
   "outputs": [],
   "source": []
  },
  {
   "cell_type": "code",
   "execution_count": 274,
   "metadata": {},
   "outputs": [],
   "source": [
    "pos = np.random.uniform(low=0.0, high=1.0, size=(128,50,2))\n",
    "dist = np.stack([cdist(p, p, metric='euclidean') for p in pos])"
   ]
  },
  {
   "cell_type": "code",
   "execution_count": 232,
   "metadata": {},
   "outputs": [
    {
     "data": {
      "text/plain": [
       "array([[0.        , 0.3388081 , 0.79117899, 0.76172133, 0.30008088],\n",
       "       [0.3388081 , 0.        , 0.7078724 , 0.96401423, 0.59890412],\n",
       "       [0.79117899, 0.7078724 , 0.        , 0.70008985, 1.07440766],\n",
       "       [0.76172133, 0.96401423, 0.70008985, 0.        , 0.88294917],\n",
       "       [0.30008088, 0.59890412, 1.07440766, 0.88294917, 0.        ]])"
      ]
     },
     "execution_count": 232,
     "metadata": {},
     "output_type": "execute_result"
    }
   ],
   "source": [
    "g = gen_complete_graph(pos[0])\n",
    "d=dist[0]\n",
    "d"
   ]
  },
  {
   "cell_type": "code",
   "execution_count": 250,
   "metadata": {},
   "outputs": [
    {
     "data": {
      "text/plain": [
       "array([4, 1, 3])"
      ]
     },
     "execution_count": 250,
     "metadata": {},
     "output_type": "execute_result"
    }
   ],
   "source": [
    "np.argsort(d)[:, 1:4]"
   ]
  },
  {
   "cell_type": "code",
   "execution_count": 31,
   "metadata": {},
   "outputs": [],
   "source": [
    "def gen_knn(pos, k):\n",
    "    dist = cdist(pos, pos, metric='euclidean')\n",
    "    g_size = dist.shape[0]\n",
    "    k_nn = dist.argsort()[:, 1:k+1]\n",
    "    node_list = []\n",
    "    edge_list = []\n",
    "    for u in range(g_size):\n",
    "        node_list.append([u, {\"pos\": pos[u]}])\n",
    "        for v in k_nn[u]:\n",
    "            edge_list.append([u,v, {\"is_mst\": 0.0, \"edge_attr\": dist[u,v]}])\n",
    "    g = nx.Graph()\n",
    "    g.add_nodes_from(node_list)\n",
    "    g.add_edges_from(edge_list)\n",
    "    \n",
    "    return g\n"
   ]
  },
  {
   "cell_type": "code",
   "execution_count": 193,
   "metadata": {},
   "outputs": [],
   "source": [
    "def mst_to_knn(graph, k):\n",
    "    num_edges = graph.num_edges\n",
    "    graph.is_mst = torch.ones((num_edges, 1), dtype=torch.float)\n",
    "    pos = graph.pos.numpy()\n",
    "    dist = cdist(pos, pos, metric='euclidean')\n",
    "    knn_g = gen_knn(dist, k)\n",
    "    mst_g = to_networkx(graph, edge_attrs=[\"is_mst\", \"edge_attr\"], to_undirected=True)\n",
    "    knn_g.update(mst_g)\n",
    "    pyg = from_networkx(knn_g)\n",
    "    \n",
    "    pyg.pos = graph.pos\n",
    "    pyg.x = graph.x\n",
    "    pyg.is_mst = pyg.is_mst.unsqueeze(-1)\n",
    "    distance.Distance(norm=False, cat=False)(pyg)\n",
    "    \n",
    "    return pyg\n"
   ]
  },
  {
   "cell_type": "code",
   "execution_count": 23,
   "metadata": {},
   "outputs": [
    {
     "data": {
      "image/png": "[encoded data removed]",
      "text/plain": [
       "<Figure size 432x288 with 1 Axes>"
      ]
     },
     "metadata": {},
     "output_type": "display_data"
    }
   ],
   "source": [
    "pos = np.random.uniform(low=0.0, high=1.0, size=(50,2))\n",
    "nx.draw(to_networkx(gen_knn_graph(pos.tolist(), 3)), pos=pos)"
   ]
  },
  {
   "cell_type": "code",
   "execution_count": 14,
   "metadata": {},
   "outputs": [],
   "source": [
    "pyg = from_networkx(gen_complete_graph(pos))\n",
    "from torch_geometric.nn import knn_graph\n",
    "pygknn = knn_graph(pyg.pos, k=3)"
   ]
  },
  {
   "cell_type": "code",
   "execution_count": null,
   "metadata": {},
   "outputs": [],
   "source": []
  },
  {
   "cell_type": "code",
   "execution_count": 5,
   "metadata": {},
   "outputs": [],
   "source": [
    "from problems.tsp.problem_tsp import gen_knn_mst_graph"
   ]
  },
  {
   "cell_type": "code",
   "execution_count": 2,
   "metadata": {},
   "outputs": [],
   "source": [
    "val_dataset = \"data/tsp/tsp50_validation_seed4321.pkl\""
   ]
  },
  {
   "cell_type": "code",
   "execution_count": 3,
   "metadata": {},
   "outputs": [
    {
     "name": "stdout",
     "output_type": "stream",
     "text": [
      "Processing...\n",
      "Done!\n"
     ]
    }
   ],
   "source": [
    "vd = _GNN_TSPDataset(filename=val_dataset, distribution=\"knn_mst\")"
   ]
  },
  {
   "cell_type": "code",
   "execution_count": 7,
   "metadata": {},
   "outputs": [],
   "source": [
    "import pickle\n",
    "val_pos = None\n",
    "with open(val_dataset, \"rb\") as f:\n",
    "    val_pos = pickle.load(f)"
   ]
  },
  {
   "cell_type": "code",
   "execution_count": 9,
   "metadata": {},
   "outputs": [],
   "source": [
    "gen_knn_mst_graph(val_pos[0])"
   ]
  },
  {
   "cell_type": "code",
   "execution_count": 4,
   "metadata": {},
   "outputs": [],
   "source": [
    "g = gen_knn_mst_graph(10)"
   ]
  },
  {
   "cell_type": "code",
   "execution_count": 63,
   "metadata": {},
   "outputs": [],
   "source": [
    "from nets import gnn_encoder, gnn_model\n",
    "from importlib import reload\n",
    "from utils import torch_load_cpu, load_problem"
   ]
  },
  {
   "cell_type": "code",
   "execution_count": 51,
   "metadata": {},
   "outputs": [
    {
     "data": {
      "text/plain": [
       "<module 'nets.gnn_encoder' from '/home/pxh/attention-learn-to-route/nets/gnn_encoder.py'>"
      ]
     },
     "execution_count": 51,
     "metadata": {},
     "output_type": "execute_result"
    }
   ],
   "source": [
    "reload(gnn_encoder)"
   ]
  },
  {
   "cell_type": "code",
   "execution_count": 66,
   "metadata": {},
   "outputs": [],
   "source": [
    "problem = load_problem(\"tsp\")\n",
    "model = gnn_model.GNNFFModel(embedding_dim=128, hidden_dim=128, problem=problem, n_encode_layers=3)\n",
    "gnn = gnn_encoder.TransformerConv(in_channels=128, out_channels=128//4, heads=4)"
   ]
  },
  {
   "cell_type": "code",
   "execution_count": 67,
   "metadata": {},
   "outputs": [],
   "source": [
    "data = model._init_embed(g)"
   ]
  },
  {
   "cell_type": "code",
   "execution_count": 101,
   "metadata": {},
   "outputs": [],
   "source": [
    "x, alpha = gnn(x = data.x, edge_index=data.edge_index, prev_alpha=data.is_mst.expand_as(alpha))"
   ]
  },
  {
   "cell_type": "code",
   "execution_count": 102,
   "metadata": {},
   "outputs": [
    {
     "data": {
      "text/plain": [
       "tensor([[0.2677, 0.2694, 0.2688, 0.2647],\n",
       "        [0.2602, 0.2598, 0.2596, 0.2630],\n",
       "        [0.1489, 0.1497, 0.1494, 0.1473],\n",
       "        ...,\n",
       "        [0.1294, 0.1276, 0.1310, 0.1258],\n",
       "        [0.2404, 0.2401, 0.2458, 0.2363],\n",
       "        [0.0936, 0.0942, 0.0969, 0.0913]],\n",
       "       grad_fn=<DifferentiableGraphBackward>)"
      ]
     },
     "execution_count": 102,
     "metadata": {},
     "output_type": "execute_result"
    }
   ],
   "source": [
    "alpha"
   ]
  },
  {
   "cell_type": "code",
   "execution_count": 14,
   "metadata": {},
   "outputs": [
    {
     "data": {
      "text/plain": [
       "tensor([[1., 1., 1., 1.],\n",
       "        [0., 0., 0., 0.],\n",
       "        [1., 1., 1., 1.],\n",
       "        [0., 0., 0., 0.],\n",
       "        [0., 0., 0., 0.],\n",
       "        [0., 0., 0., 0.],\n",
       "        [0., 0., 0., 0.],\n",
       "        [1., 1., 1., 1.],\n",
       "        [0., 0., 0., 0.],\n",
       "        [1., 1., 1., 1.],\n",
       "        [0., 0., 0., 0.],\n",
       "        [0., 0., 0., 0.],\n",
       "        [0., 0., 0., 0.],\n",
       "        [0., 0., 0., 0.],\n",
       "        [1., 1., 1., 1.],\n",
       "        [0., 0., 0., 0.],\n",
       "        [1., 1., 1., 1.],\n",
       "        [0., 0., 0., 0.],\n",
       "        [0., 0., 0., 0.],\n",
       "        [0., 0., 0., 0.],\n",
       "        [1., 1., 1., 1.],\n",
       "        [0., 0., 0., 0.],\n",
       "        [0., 0., 0., 0.],\n",
       "        [0., 0., 0., 0.],\n",
       "        [1., 1., 1., 1.],\n",
       "        [1., 1., 1., 1.],\n",
       "        [0., 0., 0., 0.],\n",
       "        [0., 0., 0., 0.],\n",
       "        [1., 1., 1., 1.],\n",
       "        [0., 0., 0., 0.],\n",
       "        [1., 1., 1., 1.],\n",
       "        [0., 0., 0., 0.],\n",
       "        [0., 0., 0., 0.],\n",
       "        [0., 0., 0., 0.],\n",
       "        [0., 0., 0., 0.],\n",
       "        [1., 1., 1., 1.],\n",
       "        [0., 0., 0., 0.],\n",
       "        [0., 0., 0., 0.],\n",
       "        [0., 0., 0., 0.],\n",
       "        [1., 1., 1., 1.],\n",
       "        [0., 0., 0., 0.],\n",
       "        [0., 0., 0., 0.],\n",
       "        [0., 0., 0., 0.],\n",
       "        [0., 0., 0., 0.],\n",
       "        [1., 1., 1., 1.],\n",
       "        [1., 1., 1., 1.],\n",
       "        [0., 0., 0., 0.],\n",
       "        [0., 0., 0., 0.],\n",
       "        [0., 0., 0., 0.],\n",
       "        [0., 0., 0., 0.],\n",
       "        [1., 1., 1., 1.],\n",
       "        [0., 0., 0., 0.],\n",
       "        [1., 1., 1., 1.],\n",
       "        [0., 0., 0., 0.],\n",
       "        [1., 1., 1., 1.],\n",
       "        [0., 0., 0., 0.],\n",
       "        [0., 0., 0., 0.],\n",
       "        [0., 0., 0., 0.]])"
      ]
     },
     "execution_count": 14,
     "metadata": {},
     "output_type": "execute_result"
    }
   ],
   "source": [
    "g.is_mst.expand(-1,4)"
   ]
  },
  {
   "cell_type": "code",
   "execution_count": 113,
   "metadata": {},
   "outputs": [
    {
     "data": {
      "text/plain": [
       "tensor(True)"
      ]
     },
     "execution_count": 113,
     "metadata": {},
     "output_type": "execute_result"
    }
   ],
   "source": []
  },
  {
   "cell_type": "code",
   "execution_count": null,
   "metadata": {},
   "outputs": [],
   "source": []
  }
 ],
 "metadata": {
  "kernelspec": {
   "display_name": "Python 3",
   "language": "python",
   "name": "python3"
  },
  "language_info": {
   "codemirror_mode": {
    "name": "ipython",
    "version": 3
   },
   "file_extension": ".py",
   "mimetype": "text/x-python",
   "name": "python",
   "nbconvert_exporter": "python",
   "pygments_lexer": "ipython3",
   "version": "3.8.5"
  },
  "toc-autonumbering": false,
  "widgets": {
   "application/vnd.jupyter.widget-state+json": {
    "state": {},
    "version_major": 2,
    "version_minor": 0
   }
  }
 },
 "nbformat": 4,
 "nbformat_minor": 4
}
